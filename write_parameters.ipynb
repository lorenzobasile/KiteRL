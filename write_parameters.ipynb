{
 "cells": [
  {
   "cell_type": "code",
   "execution_count": 107,
   "metadata": {},
   "outputs": [],
   "source": [
    "import numpy as np\n",
    "import matplotlib as mpl\n",
    "import matplotlib.pyplot as plt\n",
    "from utils import write_params, scheduling, scheduling_c\n",
    "\n",
    "system_name = 'dql_const'\n",
    "run_name = 'state_of_art'\n",
    "data_dir = './data/' + system_name + '/' + run_name + '/'\n",
    "#plot_dir = '../plots/'+system_name+'/'+run_name+'/'"
   ]
  },
  {
   "cell_type": "code",
   "execution_count": 108,
   "metadata": {},
   "outputs": [],
   "source": [
    "names_list = ['sarsa_const', 'sarsa_lin', 'sarsa_turbo', 'dql_const', 'dql_lin', 'dql_turbo']\n",
    "if system_name not in names_list:\n",
    "    print('Warning: invalid system name')"
   ]
  },
  {
   "cell_type": "markdown",
   "metadata": {},
   "source": [
    "## Environment"
   ]
  },
  {
   "cell_type": "markdown",
   "metadata": {},
   "source": [
    "### General parameters"
   ]
  },
  {
   "cell_type": "code",
   "execution_count": 109,
   "metadata": {},
   "outputs": [],
   "source": [
    "params = dict()\n",
    "\n",
    "# TIME\n",
    "params['integration_step'] = 0.001 # sec\n",
    "params['episode_duration'] = 300 # sec\n",
    "params['learning_step'] = 0.2 # sec\n",
    "\n",
    "# PENALTY\n",
    "params['penalty'] = 0.8 # kWh"
   ]
  },
  {
   "cell_type": "markdown",
   "metadata": {},
   "source": [
    "### Wind"
   ]
  },
  {
   "cell_type": "code",
   "execution_count": 110,
   "metadata": {},
   "outputs": [],
   "source": [
    "# CONSTANT WIND\n",
    "if system_name == 'sarsa_const' or system_name == 'dql_const':\n",
    "    params['wind_type'] = 'const' # 'const' for constant, 'stream' for the stream function\n",
    "    params['v_wind_x'] = 10 # m/sec\n",
    "    params['v_wind_y'] = 0 # m/sec\n",
    "    params['v_wind_z'] = 0 # m/sec\n",
    "    \n",
    "# LINEAR PROFILE\n",
    "elif system_name == 'sarsa_lin' or system_name == 'dql_lin':\n",
    "    params['wind_type'] = 'lin'\n",
    "    params['v_ground'] = 4.625 # m/sec\n",
    "    params['v_ang_coef'] = 0.125\n",
    "\n",
    "# TURBULENCE\n",
    "elif system_name == 'sarsa_turbo' or system_name == 'dql_turbo':\n",
    "    params['wind_type'] = 'turbo'\n",
    "\n",
    "else:\n",
    "    print('Invalid environment')"
   ]
  },
  {
   "cell_type": "markdown",
   "metadata": {},
   "source": [
    "## Algorithm"
   ]
  },
  {
   "cell_type": "markdown",
   "metadata": {},
   "source": [
    "### Algorithm type"
   ]
  },
  {
   "cell_type": "code",
   "execution_count": 111,
   "metadata": {},
   "outputs": [],
   "source": [
    "# SARSA ALGORITHM\n",
    "if system_name == 'sarsa_const' or system_name == 'sarsa_lin' or system_name == 'sarsa_turbo':\n",
    "    params['learning_type'] = 'sarsa'\n",
    "\n",
    "# DEEP Q-LEARNING\n",
    "elif system_name == 'dql_const' or system_name == 'dql_lin' or system_name == 'dql_turbo':\n",
    "    params['learning_type'] = 'dql'\n",
    "\n",
    "else:\n",
    "    print('Warning: invalid system name')"
   ]
  },
  {
   "cell_type": "markdown",
   "metadata": {},
   "source": [
    "### General parameters"
   ]
  },
  {
   "cell_type": "code",
   "execution_count": 124,
   "metadata": {},
   "outputs": [
    {
     "name": "stdout",
     "output_type": "stream",
     "text": [
      "1500000\n"
     ]
    }
   ],
   "source": [
    "# DISCOUNT FACTOR\n",
    "params['gamma'] = 1.0\n",
    "\n",
    "# TIME\n",
    "params['episodes'] = 1000\n",
    "#params['max_steps'] = 10000000\n",
    "\n",
    "if 'episodes' in params:\n",
    "    max_steps=int(params['episodes']*params['episode_duration']/params['learning_step'])\n",
    "else:\n",
    "    max_steps=params['max_steps']\n",
    "\n",
    "print(max_steps)\n",
    "\n",
    "# LEARNING RATE\n",
    "params['eta0'] = 0.0001\n",
    "params['eta_decay_start'] = 500000\n",
    "params['eta_decay_rate'] = 0.9\n",
    "params['eta_c'] = 1\n",
    "\n",
    "\n",
    "\n",
    "\n",
    "# EXPLORATION\n",
    "params['eps0'] = 0.01\n",
    "params['eps_decay_start'] = 500000\n",
    "params['eps_decay_rate'] = 1.3\n",
    "params['eps_c'] = 1\n",
    "\n",
    "\n",
    "\n",
    "# OPTIMIZER\n",
    "if params['learning_type'] == 'dql':\n",
    "    params['optimizer'] = 'adam'\n",
    "    params['loss'] = 'huber'"
   ]
  },
  {
   "cell_type": "code",
   "execution_count": 125,
   "metadata": {},
   "outputs": [],
   "source": [
    "# INITIAL CONDITIONS\n",
    "params['max_power'] = 0"
   ]
  },
  {
   "cell_type": "code",
   "execution_count": 126,
   "metadata": {},
   "outputs": [],
   "source": [
    "# WRITING THE PARAMETERS\n",
    "write_params(params, data_dir, \"parameters.txt\")"
   ]
  },
  {
   "cell_type": "code",
   "execution_count": 127,
   "metadata": {},
   "outputs": [
    {
     "data": {
      "image/png": "[encoded data removed]",
      "text/plain": [
       "<Figure size 432x288 with 1 Axes>"
      ]
     },
     "metadata": {
      "needs_background": "light"
     },
     "output_type": "display_data"
    }
   ],
   "source": [
    "plt.semilogy(range(0,max_steps,1000), [scheduling_c(params['eta0'], i, params['eta_decay_start'], params['eta_decay_rate'], params['eta_c']) \n",
    "          for i in range(0,max_steps,1000)], label = 'lr')\n",
    "\n",
    "plt.semilogy(range(0,max_steps,1000), [scheduling_c(params['eps0'], i, params['eps_decay_start'], params['eps_decay_rate'], params['eps_c']) \n",
    "          for i in range(0,max_steps,1000)], label = 'eps')\n",
    "\n",
    "plt.legend()\n",
    "plt.savefig(data_dir+\"lr_eps.png\")    \n",
    "plt.show()"
   ]
  },
  {
   "cell_type": "code",
   "execution_count": null,
   "metadata": {
    "collapsed": true,
    "jupyter": {
     "outputs_hidden": true
    }
   },
   "outputs": [],
   "source": []
  }
 ],
 "metadata": {
  "kernelspec": {
   "display_name": "Python 3",
   "language": "python",
   "name": "python3"
  },
  "language_info": {
   "codemirror_mode": {
    "name": "ipython",
    "version": 3
   },
   "file_extension": ".py",
   "mimetype": "text/x-python",
   "name": "python",
   "nbconvert_exporter": "python",
   "pygments_lexer": "ipython3",
   "version": "3.8.5"
  }
 },
 "nbformat": 4,
 "nbformat_minor": 4
}

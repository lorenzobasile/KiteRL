{
 "cells": [
  {
   "cell_type": "code",
<<<<<<< Updated upstream
   "execution_count": 132,
=======
   "execution_count": 89,
>>>>>>> Stashed changes
   "metadata": {},
   "outputs": [],
   "source": [
    "import numpy as np\n",
    "import matplotlib as mpl\n",
    "import matplotlib.pyplot as plt\n",
    "from utils import write_params, scheduling, scheduling_c\n",
    "\n",
<<<<<<< Updated upstream
    "system_name = 'sarsa_turbo'\n",
    "run_name = 'state_of_art'\n",
=======
    "system_name = 'dql_const'\n",
    "run_name = 'state_of_art1'\n",
>>>>>>> Stashed changes
    "data_dir = './data/' + system_name + '/' + run_name + '/'\n",
    "#plot_dir = '../plots/'+system_name+'/'+run_name+'/'"
   ]
  },
  {
   "cell_type": "code",
<<<<<<< Updated upstream
   "execution_count": 133,
=======
   "execution_count": 90,
>>>>>>> Stashed changes
   "metadata": {},
   "outputs": [],
   "source": [
    "names_list = ['sarsa_const', 'sarsa_lin', 'sarsa_turbo', 'dql_const', 'dql_lin', 'dql_turbo']\n",
    "if system_name not in names_list:\n",
    "    print('Warning: invalid system name')"
   ]
  },
  {
   "cell_type": "markdown",
   "metadata": {},
   "source": [
    "## Environment"
   ]
  },
  {
   "cell_type": "markdown",
   "metadata": {},
   "source": [
    "### General parameters"
   ]
  },
  {
   "cell_type": "code",
<<<<<<< Updated upstream
   "execution_count": 134,
=======
   "execution_count": 91,
>>>>>>> Stashed changes
   "metadata": {},
   "outputs": [],
   "source": [
    "params = dict()\n",
    "\n",
    "# TIME\n",
    "params['integration_step'] = 0.001 # sec\n",
    "params['episode_duration'] = 300 # sec\n",
    "params['learning_step'] = 0.2 # sec\n",
    "\n",
    "# PENALTY\n",
    "params['penalty'] = 15 # kWh"
   ]
  },
  {
   "cell_type": "markdown",
   "metadata": {},
   "source": [
    "### Wind"
   ]
  },
  {
   "cell_type": "code",
<<<<<<< Updated upstream
   "execution_count": 135,
=======
   "execution_count": 92,
>>>>>>> Stashed changes
   "metadata": {},
   "outputs": [],
   "source": [
    "# CONSTANT WIND\n",
    "if system_name == 'sarsa_const' or system_name == 'dql_const':\n",
    "    params['wind_type'] = 'const' # 'const' for constant, 'stream' for the stream function\n",
    "    params['v_wind_x'] = 10 # m/sec\n",
    "    params['v_wind_y'] = 0 # m/sec\n",
    "    params['v_wind_z'] = 0 # m/sec\n",
    "    \n",
    "# LINEAR PROFILE\n",
    "elif system_name == 'sarsa_lin' or system_name == 'dql_lin':\n",
    "    params['wind_type'] = 'lin'\n",
    "    params['v_ground'] = 4.625 # m/sec\n",
    "    params['v_ang_coef'] = 0.125\n",
    "\n",
    "# TURBULENCE\n",
    "elif system_name == 'sarsa_turbo' or system_name == 'dql_turbo':\n",
    "    params['wind_type'] = 'turbo'\n",
    "\n",
    "else:\n",
    "    print('Invalid environment')"
   ]
  },
  {
   "cell_type": "markdown",
   "metadata": {},
   "source": [
    "## Algorithm"
   ]
  },
  {
   "cell_type": "markdown",
   "metadata": {},
   "source": [
    "### Algorithm type"
   ]
  },
  {
   "cell_type": "code",
<<<<<<< Updated upstream
   "execution_count": 136,
=======
   "execution_count": 93,
>>>>>>> Stashed changes
   "metadata": {},
   "outputs": [],
   "source": [
    "# SARSA ALGORITHM\n",
    "if system_name == 'sarsa_const' or system_name == 'sarsa_lin' or system_name == 'sarsa_turbo':\n",
    "    params['learning_type'] = 'sarsa'\n",
    "\n",
    "# DEEP Q-LEARNING\n",
    "elif system_name == 'dql_const' or system_name == 'dql_lin' or system_name == 'dql_turbo':\n",
    "    params['learning_type'] = 'dql'\n",
    "\n",
    "else:\n",
    "    print('Warning: invalid system name')"
   ]
  },
  {
   "cell_type": "markdown",
   "metadata": {},
   "source": [
    "### General parameters"
   ]
  },
  {
   "cell_type": "code",
<<<<<<< Updated upstream
   "execution_count": 137,
=======
   "execution_count": 94,
>>>>>>> Stashed changes
   "metadata": {},
   "outputs": [
    {
     "name": "stdout",
     "output_type": "stream",
     "text": [
      "10000000\n"
     ]
    }
   ],
   "source": [
    "# DISCOUNT FACTOR\n",
    "params['gamma'] = 1\n",
    "\n",
    "# TIME\n",
    "#params['episodes'] = 1000\n",
    "params['max_steps'] = 10000000\n",
    "\n",
    "if 'episodes' in params:\n",
    "    max_steps=int(params['episodes']*params['episode_duration']/params['learning_step'])\n",
    "else:\n",
    "    max_steps=params['max_steps']\n",
    "\n",
    "print(max_steps)\n",
    "\n",
    "# LEARNING RATE\n",
    "params['eta0'] = 1e-1\n",
    "params['eta_decay_start'] = 1000000\n",
    "params['eta_decay_rate'] = 0.9\n",
    "params['eta_c'] = 1000\n",
    "\n",
    "\n",
    "\n",
    "\n",
    "# EXPLORATION\n",
    "params['eps0'] = 1e-2\n",
    "params['eps_decay_start'] = 5000000\n",
    "params['eps_decay_rate'] = 1.3\n",
    "params['eps_c'] = 1\n",
    "\n",
    "\n",
    "\n",
    "# OPTIMIZER\n",
    "if params['learning_type'] == 'dql':\n",
<<<<<<< Updated upstream
    "    params['optimizer'] = 'adam'\n",
    "    params['loss'] = 'mse'"
=======
    "    params['optimizer'] = 'sgd'\n",
    "    params['loss'] = 'mse'\n",
    "    params['buffer_size'] = 1\n",
    "    params['batch_size'] = 1"
>>>>>>> Stashed changes
   ]
  },
  {
   "cell_type": "code",
<<<<<<< Updated upstream
   "execution_count": 138,
=======
   "execution_count": 95,
>>>>>>> Stashed changes
   "metadata": {},
   "outputs": [],
   "source": [
    "# INITIAL CONDITIONS\n",
    "params['max_power'] = 0"
   ]
  },
  {
   "cell_type": "code",
<<<<<<< Updated upstream
   "execution_count": 139,
=======
   "execution_count": 96,
>>>>>>> Stashed changes
   "metadata": {},
   "outputs": [],
   "source": [
    "# WRITING THE PARAMETERS\n",
    "write_params(params, data_dir, \"parameters.txt\")"
   ]
  },
  {
   "cell_type": "code",
<<<<<<< Updated upstream
   "execution_count": 140,
=======
   "execution_count": 97,
>>>>>>> Stashed changes
   "metadata": {},
   "outputs": [
    {
     "data": {
<<<<<<< Updated upstream
      "image/png": "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\n",
=======
      "image/png": "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\n",
>>>>>>> Stashed changes
      "text/plain": [
       "<Figure size 432x288 with 1 Axes>"
      ]
     },
     "metadata": {
      "needs_background": "light"
     },
     "output_type": "display_data"
    }
   ],
   "source": [
    "plt.semilogy(range(0,max_steps,1000), [scheduling_c(params['eta0'], i, params['eta_decay_start'], params['eta_decay_rate'], params['eta_c']) \n",
    "          for i in range(0,max_steps,1000)], label = 'lr')\n",
    "\n",
    "plt.semilogy(range(0,max_steps,1000), [scheduling_c(params['eps0'], i, params['eps_decay_start'], params['eps_decay_rate'], params['eps_c']) \n",
    "          for i in range(0,max_steps,1000)], label = 'eps')\n",
    "\n",
    "plt.legend()\n",
    "plt.savefig(data_dir+\"lr_eps.png\")    \n",
    "plt.show()"
   ]
  },
  {
   "cell_type": "code",
   "execution_count": null,
   "metadata": {
    "collapsed": true,
    "jupyter": {
     "outputs_hidden": true
    }
   },
   "outputs": [],
   "source": []
  },
  {
   "cell_type": "code",
   "execution_count": null,
   "metadata": {},
   "outputs": [],
   "source": []
  }
 ],
 "metadata": {
  "kernelspec": {
   "display_name": "Python 3",
   "language": "python",
   "name": "python3"
  },
  "language_info": {
   "codemirror_mode": {
    "name": "ipython",
    "version": 3
   },
   "file_extension": ".py",
   "mimetype": "text/x-python",
   "name": "python",
   "nbconvert_exporter": "python",
   "pygments_lexer": "ipython3",
   "version": "3.8.5"
  }
 },
 "nbformat": 4,
 "nbformat_minor": 4
}

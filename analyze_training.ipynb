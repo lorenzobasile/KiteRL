{
 "cells": [
  {
   "cell_type": "code",
   "execution_count": 1,
   "metadata": {},
   "outputs": [],
   "source": [
    "import numpy as np\n",
    "import matplotlib as mpl\n",
    "import matplotlib.pyplot as plt\n",
    "import utils as ut\n",
    "\n",
    "system_name = 'sarsa_const'\n",
    "run_name = 'state_of_the_art'\n",
    "data_dir = './data/' + system_name + '/' + run_name + '/'\n",
    "#plot_dir = '../plots/'+system_name+'/'+run_name+'/'"
   ]
  },
  {
   "cell_type": "markdown",
   "metadata": {},
   "source": [
    "## Learning of the 3d kite - relative velocity angle- with sarsa"
   ]
  },
  {
   "cell_type": "code",
   "execution_count": 2,
   "metadata": {},
   "outputs": [
    {
     "name": "stdout",
     "output_type": "stream",
     "text": [
      "integration_step 0.001\n",
      "episode_duration 300.0\n",
      "learning_step 0.2\n",
      "penalty 3000000.0\n",
      "wind_type const\n",
      "v_wind_x 12.0\n",
      "v_wind_y 0.0\n",
      "v_wind_z 0.0\n",
      "learning_type sarsa\n",
      "gamma 1.0\n",
      "episodes 10.0\n",
      "eta0 0.1\n",
      "eta_decay_start 500000.0\n",
      "eta_decay_rate 1.3\n",
      "eps0 0.01\n",
      "eps_decay_start 300000.0\n",
      "eps_decay_rate 0.9\n",
      "max_power 1000000.0\n"
     ]
    }
   ],
   "source": [
    "params = ut.read_params(data_dir+'parameters.txt')\n",
    "for ep in params:\n",
    "    print(ep, params[ep])"
   ]
  },
  {
   "cell_type": "code",
   "execution_count": 3,
   "metadata": {
    "collapsed": true
   },
   "outputs": [],
   "source": [
    "# read durations and returns\n",
    "d_traj,= ut.read_traj(data_dir+'/return.txt')"
   ]
  },
  {
   "cell_type": "code",
   "execution_count": 5,
   "metadata": {
    "scrolled": true
   },
   "outputs": [
    {
     "data": {
      "image/png": "[encoded data removed]",
      "text/plain": [
       "<matplotlib.figure.Figure at 0x1143006a0>"
      ]
     },
     "metadata": {},
     "output_type": "display_data"
    }
   ],
   "source": [
    "plt.xlabel('Episodes', fontsize=14)\n",
    "plt.ylabel('Smoothed return', fontsize=14)\n",
    "\n",
    "x = np.arange(len(d_traj))\n",
    "plt.plot(r_traj, 'o')\n",
    "\n",
    "smooth = np.convolve(r_traj, np.ones(100))/100\n",
    "plt.plot(smooth, color='red', lw=3)\n",
    "\n",
    "plt.savefig(data_dir+'return.png', dpi=200)\n",
    "plt.show()"
   ]
  }
 ],
 "metadata": {
  "kernelspec": {
   "display_name": "Python 3",
   "language": "python",
   "name": "python3"
  },
  "language_info": {
   "codemirror_mode": {
    "name": "ipython",
    "version": 3
   },
   "file_extension": ".py",
   "mimetype": "text/x-python",
   "name": "python",
   "nbconvert_exporter": "python",
   "pygments_lexer": "ipython3",
   "version": "3.6.3"
  }
 },
 "nbformat": 4,
 "nbformat_minor": 2
}
